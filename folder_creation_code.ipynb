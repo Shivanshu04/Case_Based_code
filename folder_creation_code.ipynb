{
  "nbformat": 4,
  "nbformat_minor": 0,
  "metadata": {
    "colab": {
      "provenance": [],
      "authorship_tag": "ABX9TyMrIT9PsA1Ria3PDIFZWx4X",
      "include_colab_link": true
    },
    "kernelspec": {
      "name": "python3",
      "display_name": "Python 3"
    },
    "language_info": {
      "name": "python"
    }
  },
  "cells": [
    {
      "cell_type": "markdown",
      "metadata": {
        "id": "view-in-github",
        "colab_type": "text"
      },
      "source": [
        "<a href=\"https://colab.research.google.com/github/Shivanshu04/Case_Based_code/blob/main/folder_creation_code.ipynb\" target=\"_parent\"><img src=\"https://colab.research.google.com/assets/colab-badge.svg\" alt=\"Open In Colab\"/></a>"
      ]
    },
    {
      "cell_type": "code",
      "execution_count": null,
      "metadata": {
        "id": "XIjj9OWtr5Dn"
      },
      "outputs": [],
      "source": [
        "import os\n",
        "\n",
        "def create_subfolders(main_folder_path, start=0, end=1285000, gap=4000):\n",
        "    \"\"\"\n",
        "    Creates subfolders in the specified main folder.\n",
        "    Subfolders are named in the format \"final Xk to Yk\",\n",
        "    where X and Y are numbers that increase by the specified gap.\n",
        "\n",
        "    :param main_folder_path: Path to the main folder where subfolders will be created.\n",
        "    :param start: Start of the range for folder naming.\n",
        "    :param end: End of the range for folder naming.\n",
        "    :param gap: Gap between X and Y in folder names.\n",
        "    \"\"\"\n",
        "    try:\n",
        "        # Ensure the main folder exists\n",
        "        os.makedirs(main_folder_path, exist_ok=True)\n",
        "\n",
        "        # Loop through the specified range and create subfolders\n",
        "        for i in range(start, end, gap):\n",
        "            subfolder_name = f\"final {i//1000}k to {(i+gap)//1000}k\"\n",
        "            subfolder_path = os.path.join(main_folder_path, subfolder_name)\n",
        "            os.makedirs(subfolder_path, exist_ok=True)\n",
        "            print(f\"Created: {subfolder_path}\")\n",
        "\n",
        "    except Exception as e:\n",
        "        print(f\"An error occurred: {str(e)}\")\n",
        "\n",
        "# Usage\n",
        "main_folder_path = r\"C:\\mylastry\"  # Replace with actual path\n",
        "create_subfolders(main_folder_path)\n"
      ]
    }
  ]
}